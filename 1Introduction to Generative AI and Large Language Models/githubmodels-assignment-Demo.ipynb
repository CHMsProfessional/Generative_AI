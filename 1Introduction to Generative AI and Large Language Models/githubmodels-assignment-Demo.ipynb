{
 "cells": [
  {
   "cell_type": "code",
   "execution_count": null,
   "metadata": {},
   "outputs": [],
   "source": [
    "#pip install azure-ai-inference azure-core"
   ]
  },
  {
   "cell_type": "code",
   "execution_count": null,
   "metadata": {},
   "outputs": [],
   "source": [
    "\n",
    "import os\n",
    "from azure.ai.inference import ChatCompletionsClient\n",
    "from azure.ai.inference.models import SystemMessage, UserMessage\n",
    "from azure.core.credentials import AzureKeyCredential\n",
    "token = os.environ.get(\"GITHUB_TOKEN\", \"Your_GITHUB_TOKEN\")\n",
    "endpoint = \"https://models.inference.ai.azure.com\"\n",
    "\n",
    "client = ChatCompletionsClient(\n",
    "    endpoint=endpoint,\n",
    "    credential=AzureKeyCredential(token),\n",
    ")\n",
    "\n",
    "model_name = \"gpt-4o\""
   ]
  },
  {
   "cell_type": "code",
   "execution_count": 2,
   "metadata": {},
   "outputs": [
    {
     "data": {
      "text/plain": [
       "\"I'm sorry to hear you're experiencing foot pain. Foot pain can result from a variety of causes, ranging from minor issues to more serious conditions. To better determine what might be causing your discomfort, we need to gather some information about your symptoms and medical history.\\n\\nHere are some common potential causes of foot pain:\\n\\n### 1. **Injuries or Trauma**\\n   - **Sprains or strains**: A stretched or torn ligament, tendon, or muscle.\\n   - **Fractures**: A broken bone.\\n   - **Bruising or contusions**: Caused by impact.\\n\\n### 2. **Musculoskeletal Issues**\\n   - **Plantar fasciitis**: Pain in the heel or sole of the foot, caused by inflammation of the plantar fascia.\\n   - **Tendinitis**: Inflammation of a tendon, such as Achilles tendinitis.\\n   - **Arthritis**: Joint inflammation; common forms include osteoarthritis and rheumatoid arthritis.\\n   - **Bunions**: A bony bump at the base of the big toe.\\n   - **Flat feet**: Lack of arch support, causing discomfort.\\n   - **Stress fractures**: Small cracks in the bone from overuse or repetitive stress.\\n\\n### 3. **Nerve-Related Conditions**\\n   - **Neuropathy**: Nerve damage, often related to diabetes or other systemic conditions.\\n   - **Morton's neuroma**: A pinched nerve, often felt as a sharp or burning pain between the toes.\\n\\n### 4. **Infections or Wounds**\\n   - **Ingrown toenail**: Can cause localized pain, redness, and swelling.\\n   - **Cellulitis or abscess**: Skin infections.\\n   - **Athlete's foot**: Fungal infection causing itching and soreness.\\n   - **Ulcers**: Common in individuals with diabetes.\\n\\n### 5. **Circulatory Issues**\\n   - **Peripheral artery disease (PAD)**: Poor blood circulation, leading to pain or cramping.\\n   - **Deep vein thrombosis (DVT)**: A blood clot, although more commonly seen in the leg than the foot.\\n\\n### 6. **Shoes or Footwear**\\n   - **Poorly fitting shoes**: Can cause blisters, corns, calluses, and arch or heel pain.\\n   - **High heels**: May contribute to strain or deformity over time.\\n\\n---\\n\\n### What You Can Do for Now:\\n- **Rest and elevate** your foot to reduce swelling.\\n- **Apply ice** to the painful area for 15-20 minutes a few times a day.\\n- Take over-the-counter pain relievers like ibuprofen or acetaminophen.\\n- Wear comfortable, well-fitting shoes with good arch support.\\n\\n---\\n\\n### Questions to Help Narrow It Down:\\n1. Where exactly is the pain (heel, toes, arch, top, or side of the foot)?\\n2. Did the pain start suddenly or gradually?\\n3. Is there swelling, redness, bruising, or warmth in the painful area?\\n4. Does the pain worsen with walking or rest?\\n5. Have you had any recent injuries or changes in activity (e.g., more walking, running)?\\n6. Do you have any underlying medical conditions, such as diabetes or arthritis?\\n\\n---\\n\\nIf the pain persists, worsens, or if you notice signs of infection (redness, swelling, warmth, or fever) or inability to bear weight, I strongly recommend consulting a healthcare professional in person. Accurate diagnosis may require a physical exam, X-rays, or other tests.\\n\\nLet me know if you can provide more details, and I can guide you further!\""
      ]
     },
     "execution_count": 2,
     "metadata": {},
     "output_type": "execute_result"
    }
   ],
   "source": [
    "# Create your first prompt\n",
    "text_prompt = \" My foot hurts, what can be wrong?\"\n",
    "\n",
    "response = client.complete(\n",
    "  model=model_name,\n",
    "  messages = [\n",
    "      {\"role\":\"system\", \"content\":\"I'm a doctor, specialist on surgery\"},\n",
    "      {\"role\":\"user\",\"content\":text_prompt},])\n",
    "\n",
    "response.choices[0].message.content"
   ]
  }
 ],
 "metadata": {
  "kernelspec": {
   "display_name": "genai2",
   "language": "python",
   "name": "python3"
  },
  "language_info": {
   "codemirror_mode": {
    "name": "ipython",
    "version": 3
   },
   "file_extension": ".py",
   "mimetype": "text/x-python",
   "name": "python",
   "nbconvert_exporter": "python",
   "pygments_lexer": "ipython3",
   "version": "3.11.9"
  },
  "orig_nbformat": 4
 },
 "nbformat": 4,
 "nbformat_minor": 2
}
