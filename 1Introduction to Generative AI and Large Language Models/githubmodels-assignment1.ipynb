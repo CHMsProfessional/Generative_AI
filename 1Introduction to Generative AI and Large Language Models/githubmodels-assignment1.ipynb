{
  "cells": [
    {
      "cell_type": "markdown",
      "metadata": {
        "nteract": {
          "transient": {
            "deleting": false
          }
        }
      },
      "source": [
        "# Khipus.ai\n",
        "## Introduction to Generative AI and Large Language Models\n",
        "### Assignment 1:  Build text generation app\n",
        "### Name: (add your name)\n",
        "<span>© Copyright Notice 2025, Khipus.ai - All Rights Reserved.</span>"
      ]
    },
    {
      "attachments": {},
      "cell_type": "markdown",
      "metadata": {
        "nteract": {
          "transient": {
            "deleting": false
          }
        }
      },
      "source": [
        "### Build text generation app\n",
        "This short exercise will provide a basic introduction for submitting prompts to a model in Github Models for a text generation.\n",
        "\n",
        "\n",
        "**Steps**:  \n",
        "1. Install `azure-ai-inference` library in your python environment, if you haven't done so.  \n",
        "2. Load standard helper libraries\n",
        "3. Instantiate the Github Models credential.  \n",
        "4. Select a model for your task  \n",
        "5. Generate text with ChatCompletions\n",
        "6. Create a prompt for the model \n",
        "7. Submit the request to the model API!"
      ]
    },
    {
      "attachments": {},
      "cell_type": "markdown",
      "metadata": {
        "nteract": {
          "transient": {
            "deleting": false
          }
        }
      },
      "source": [
        "### 1. Install `azure-ai-inference`"
      ]
    },
    {
      "cell_type": "code",
      "execution_count": null,
      "metadata": {
        "gather": {
          "logged": 1674254990318
        },
        "jupyter": {
          "outputs_hidden": true,
          "source_hidden": false
        },
        "nteract": {
          "transient": {
            "deleting": false
          }
        }
      },
      "outputs": [],
      "source": [
        "#%pip install azure-ai-inference"
      ]
    },
    {
      "attachments": {},
      "cell_type": "markdown",
      "metadata": {
        "nteract": {
          "transient": {
            "deleting": false
          }
        }
      },
      "source": [
        "### 2. Import helper libraries "
      ]
    },
    {
      "cell_type": "code",
      "execution_count": null,
      "metadata": {},
      "outputs": [],
      "source": [
        "import os\n",
        "from azure.ai.inference import ChatCompletionsClient\n",
        "from azure.ai.inference.models import SystemMessage, UserMessage\n",
        "from azure.core.credentials import AzureKeyCredential"
      ]
    },
    {
      "cell_type": "markdown",
      "metadata": {},
      "source": [
        "### 3. instantiate credentials"
      ]
    },
    {
      "cell_type": "code",
      "execution_count": null,
      "metadata": {},
      "outputs": [],
      "source": [
        "token = os.environ.get(\"GITHUB_TOKEN\", \"Your_GITHUB_TOKEN\") # Your_GITHUB_TOKEN\n",
        "endpoint = \"https://models.inference.ai.azure.com\""
      ]
    },
    {
      "cell_type": "markdown",
      "metadata": {},
      "source": [
        "### 4. Select the model"
      ]
    },
    {
      "cell_type": "code",
      "execution_count": null,
      "metadata": {},
      "outputs": [],
      "source": [
        "model_name = \"gpt-4o\""
      ]
    },
    {
      "cell_type": "markdown",
      "metadata": {},
      "source": [
        "### 5. Generate text with ChatCompletions\n",
        "The way to generate text is to use the `ChatCompletionsClient` class. "
      ]
    },
    {
      "cell_type": "code",
      "execution_count": null,
      "metadata": {},
      "outputs": [],
      "source": [
        "client = ChatCompletionsClient(\n",
        "    endpoint=endpoint,\n",
        "    credential=AzureKeyCredential(token),\n",
        ")"
      ]
    },
    {
      "cell_type": "markdown",
      "metadata": {},
      "source": [
        "### 6.Create a prompt for the model"
      ]
    },
    {
      "cell_type": "code",
      "execution_count": null,
      "metadata": {},
      "outputs": [],
      "source": [
        "prompt = (\n",
        "    \"Generate 5 engaging social‑media posts tailored for AI developers about the latest in AI Agents. \"\n",
        "    \"Each post should include:\\n\"\n",
        "    \"• A concise, attention‑grabbing headline or opening line\\n\"\n",
        "    \"• One key technical insight or tip (e.g., new library, optimization trick, best practice)\\n\"\n",
        "    \"• Relevant hashtags (at least 3) and one emoji\\n\"\n",
        "    \"• A clear call‑to‑action (e.g., link to a blog, invite to comment, share feedback)\\n\"\n",
        "    \"Format each post as a separate bullet point.\"\n",
        ")\n",
        "\n",
        "\n"
      ]
    },
    {
      "cell_type": "markdown",
      "metadata": {},
      "source": [
        "### 7.  Submit the request to the model API"
      ]
    },
    {
      "cell_type": "code",
      "execution_count": null,
      "metadata": {},
      "outputs": [],
      "source": [
        "response = client.complete(\n",
        "    messages=[\n",
        "        {\n",
        "            \"role\": \"system\",\n",
        "            \"content\": \"You are a Social Media manager.\",\n",
        "        },\n",
        "        {\n",
        "            \"role\": \"user\",\n",
        "            \"content\": prompt,\n",
        "        },\n",
        "    ],\n",
        "    model=model_name,\n",
        "    # Optional parameters\n",
        "    temperature=1.,\n",
        "    max_tokens=1000,\n",
        "    top_p=1.    \n",
        ")\n",
        "\n",
        "print(response.choices[0].message.content)"
      ]
    },
    {
      "cell_type": "markdown",
      "metadata": {},
      "source": []
    }
  ],
  "metadata": {
    "kernel_info": {
      "name": "python310-sdkv2"
    },
    "kernelspec": {
      "display_name": "Python 3",
      "language": "python",
      "name": "python3"
    },
    "language_info": {
      "codemirror_mode": {
        "name": "ipython",
        "version": 3
      },
      "file_extension": ".py",
      "mimetype": "text/x-python",
      "name": "python",
      "nbconvert_exporter": "python",
      "pygments_lexer": "ipython3",
      "version": "3.11.9"
    },
    "microsoft": {
      "host": {
        "AzureML": {
          "notebookHasBeenCompleted": true
        }
      }
    },
    "nteract": {
      "version": "nteract-front-end@1.0.0"
    }
  },
  "nbformat": 4,
  "nbformat_minor": 2
}
