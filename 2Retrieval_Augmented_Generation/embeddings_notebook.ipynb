{
 "cells": [
  {
   "cell_type": "markdown",
   "metadata": {},
   "source": [
    "# Khipus.ai\n",
    "## Embeddings\n",
    "\n",
    "### Demo: Generating Embeddings\n",
    "<span>© Copyright Notice 2025, Khipus.ai - All Rights Reserved.</span>"
   ]
  },
  {
   "cell_type": "markdown",
   "metadata": {},
   "source": [
    "## Introduction\n",
    "\n",
    "Embeddings are numerical representations of text that capture semantic meaning. In this notebook, we will explore how to generate embeddings using OpenAI's `textembeddingada-002` model, compare embeddings using cosine similarity, and integrate them into a Retrieval Augmented Generation (RAG) pipeline."
   ]
  },
  {
   "cell_type": "code",
   "execution_count": 20,
   "id": "bad9cb88",
   "metadata": {},
   "outputs": [],
   "source": [
    "# Import required libraries\n",
    "import openai\n",
    "import numpy as np\n",
    "import os"
   ]
  },
  {
   "cell_type": "code",
   "execution_count": null,
   "id": "01b4f40a",
   "metadata": {},
   "outputs": [],
   "source": [
    "# Set Azure OpenAI configuration\n",
    "openai.api_key = os.getenv(\"OPENAI_API_KEY\", \"Replace with your OpenAI API key\") #Use this key: BjSM1Dwo5UZVvPUizHw8w0n8i7TM3fHIK3GjbeIYX5Z1nqffyiCBJQQJ99BBACYeBjFXJ3w3AAABACOGRhVh\n",
    "openai.api_base = \"https://khipus-aoai.openai.azure.com\"\n",
    "openai.api_type = \"azure\"\n",
    "openai.api_version = \"2023-05-15\"\n"
   ]
  },
  {
   "cell_type": "markdown",
   "id": "49a7c998",
   "metadata": {},
   "source": [
    "## Generating Embeddings\n",
    "\n",
    "The code above demonstrates how to generate an embedding for a given text using the `textembeddingada-002` model."
   ]
  },
  {
   "cell_type": "code",
   "execution_count": 22,
   "id": "d0da3d81",
   "metadata": {},
   "outputs": [
    {
     "name": "stdout",
     "output_type": "stream",
     "text": [
      "Embedding for text (first 5 dimensions): [0.005524002946913242, -0.00524763623252511, 0.027703257277607918, -0.038917750120162964, -0.021496662870049477]...\n"
     ]
    }
   ],
   "source": [
    "# Function to generate embeddings using the deployment of text-embedding-ada-002 on Azure OpenAI\n",
    "def get_embedding(text, deployment=\"text-embedding-ada-002\"):\n",
    "    response = openai.Embedding.create(input=[text], deployment_id=deployment)\n",
    "    return response['data'][0]['embedding']\n",
    "\n",
    "# Example text\n",
    "text = \"Khipus\"\n",
    "embedding_vector = get_embedding(text)\n",
    "\n",
    "# Print the first 5 dimensions of the embedding for brevity\n",
    "print(f\"Embedding for text (first 5 dimensions): {embedding_vector[:5]}...\")"
   ]
  },
  {
   "cell_type": "markdown",
   "id": "4f5304a9",
   "metadata": {},
   "source": [
    "The text-embedding-ada-002 model typically returns an embedding vector with 1536 dimensions. In this notebook, the DataFrame is created with one row per dimension (i.e., 1536 rows), where each row shows the index and corresponding embedding value."
   ]
  },
  {
   "cell_type": "code",
   "execution_count": 23,
   "id": "b630d399",
   "metadata": {},
   "outputs": [
    {
     "data": {
      "application/vnd.microsoft.datawrangler.viewer.v0+json": {
       "columns": [
        {
         "name": "index",
         "rawType": "int64",
         "type": "integer"
        },
        {
         "name": "Index",
         "rawType": "int64",
         "type": "integer"
        },
        {
         "name": "Value",
         "rawType": "float64",
         "type": "float"
        }
       ],
       "conversionMethod": "pd.DataFrame",
       "ref": "478da90c-5456-4ad7-8a46-20509a61380b",
       "rows": [
        [
         "0",
         "0",
         "0.005524002946913242"
        ],
        [
         "1",
         "1",
         "-0.00524763623252511"
        ],
        [
         "2",
         "2",
         "0.027703257277607918"
        ],
        [
         "3",
         "3",
         "-0.038917750120162964"
        ],
        [
         "4",
         "4",
         "-0.021496662870049477"
        ],
        [
         "5",
         "5",
         "0.02986091561615467"
        ],
        [
         "6",
         "6",
         "-0.006030120421200991"
        ],
        [
         "7",
         "7",
         "-0.004888026975095272"
        ],
        [
         "8",
         "8",
         "0.03542820364236832"
        ],
        [
         "9",
         "9",
         "-0.01973857171833515"
        ],
        [
         "10",
         "10",
         "0.025412412360310555"
        ],
        [
         "11",
         "11",
         "0.010042430832982063"
        ],
        [
         "12",
         "12",
         "0.014823907054960728"
        ],
        [
         "13",
         "13",
         "-0.006223243661224842"
        ],
        [
         "14",
         "14",
         "-0.017794014886021614"
        ],
        [
         "15",
         "15",
         "0.008037940599024296"
        ],
        [
         "16",
         "16",
         "0.018206899985671043"
        ],
        [
         "17",
         "17",
         "-0.013478700071573257"
        ],
        [
         "18",
         "18",
         "0.03630724921822548"
        ],
        [
         "19",
         "19",
         "-0.02309492789208889"
        ],
        [
         "20",
         "20",
         "-0.014024774543941021"
        ],
        [
         "21",
         "21",
         "0.003732614452019334"
        ],
        [
         "22",
         "22",
         "0.027942998334765434"
        ],
        [
         "23",
         "23",
         "-0.006233233027160168"
        ],
        [
         "24",
         "24",
         "-0.012619633227586746"
        ],
        [
         "25",
         "25",
         "0.007158895023167133"
        ],
        [
         "26",
         "26",
         "0.02124360390007496"
        ],
        [
         "27",
         "27",
         "-0.013731759041547775"
        ],
        [
         "28",
         "28",
         "-0.021230285987257957"
        ],
        [
         "29",
         "29",
         "-0.034842174500226974"
        ],
        [
         "30",
         "30",
         "0.02631809562444687"
        ],
        [
         "31",
         "31",
         "-0.02071084827184677"
        ],
        [
         "32",
         "32",
         "-0.0008286836673505604"
        ],
        [
         "33",
         "33",
         "-0.015023689717054367"
        ],
        [
         "34",
         "34",
         "-0.021310199052095413"
        ],
        [
         "35",
         "35",
         "-0.007245467510074377"
        ],
        [
         "36",
         "36",
         "0.0026787584647536278"
        ],
        [
         "37",
         "37",
         "-0.011267767287790775"
        ],
        [
         "38",
         "38",
         "0.01872633770108223"
        ],
        [
         "39",
         "39",
         "0.020444471389055252"
        ],
        [
         "40",
         "40",
         "0.00859733298420906"
        ],
        [
         "41",
         "41",
         "0.0076050772331655025"
        ],
        [
         "42",
         "42",
         "-0.0015058652497828007"
        ],
        [
         "43",
         "43",
         "0.012439828366041183"
        ],
        [
         "44",
         "44",
         "-0.004924653563648462"
        ],
        [
         "45",
         "45",
         "-0.000622657360509038"
        ],
        [
         "46",
         "46",
         "0.00682592298835516"
        ],
        [
         "47",
         "47",
         "0.013944861479103565"
        ],
        [
         "48",
         "48",
         "-0.027996273711323738"
        ],
        [
         "49",
         "49",
         "0.011360999196767807"
        ]
       ],
       "shape": {
        "columns": 2,
        "rows": 1536
       }
      },
      "text/html": [
       "<div>\n",
       "<style scoped>\n",
       "    .dataframe tbody tr th:only-of-type {\n",
       "        vertical-align: middle;\n",
       "    }\n",
       "\n",
       "    .dataframe tbody tr th {\n",
       "        vertical-align: top;\n",
       "    }\n",
       "\n",
       "    .dataframe thead th {\n",
       "        text-align: right;\n",
       "    }\n",
       "</style>\n",
       "<table border=\"1\" class=\"dataframe\">\n",
       "  <thead>\n",
       "    <tr style=\"text-align: right;\">\n",
       "      <th></th>\n",
       "      <th>Index</th>\n",
       "      <th>Value</th>\n",
       "    </tr>\n",
       "  </thead>\n",
       "  <tbody>\n",
       "    <tr>\n",
       "      <th>0</th>\n",
       "      <td>0</td>\n",
       "      <td>0.005524</td>\n",
       "    </tr>\n",
       "    <tr>\n",
       "      <th>1</th>\n",
       "      <td>1</td>\n",
       "      <td>-0.005248</td>\n",
       "    </tr>\n",
       "    <tr>\n",
       "      <th>2</th>\n",
       "      <td>2</td>\n",
       "      <td>0.027703</td>\n",
       "    </tr>\n",
       "    <tr>\n",
       "      <th>3</th>\n",
       "      <td>3</td>\n",
       "      <td>-0.038918</td>\n",
       "    </tr>\n",
       "    <tr>\n",
       "      <th>4</th>\n",
       "      <td>4</td>\n",
       "      <td>-0.021497</td>\n",
       "    </tr>\n",
       "    <tr>\n",
       "      <th>...</th>\n",
       "      <td>...</td>\n",
       "      <td>...</td>\n",
       "    </tr>\n",
       "    <tr>\n",
       "      <th>1531</th>\n",
       "      <td>1531</td>\n",
       "      <td>0.021403</td>\n",
       "    </tr>\n",
       "    <tr>\n",
       "      <th>1532</th>\n",
       "      <td>1532</td>\n",
       "      <td>0.003872</td>\n",
       "    </tr>\n",
       "    <tr>\n",
       "      <th>1533</th>\n",
       "      <td>1533</td>\n",
       "      <td>0.002447</td>\n",
       "    </tr>\n",
       "    <tr>\n",
       "      <th>1534</th>\n",
       "      <td>1534</td>\n",
       "      <td>-0.003333</td>\n",
       "    </tr>\n",
       "    <tr>\n",
       "      <th>1535</th>\n",
       "      <td>1535</td>\n",
       "      <td>-0.012233</td>\n",
       "    </tr>\n",
       "  </tbody>\n",
       "</table>\n",
       "<p>1536 rows × 2 columns</p>\n",
       "</div>"
      ],
      "text/plain": [
       "      Index     Value\n",
       "0         0  0.005524\n",
       "1         1 -0.005248\n",
       "2         2  0.027703\n",
       "3         3 -0.038918\n",
       "4         4 -0.021497\n",
       "...     ...       ...\n",
       "1531   1531  0.021403\n",
       "1532   1532  0.003872\n",
       "1533   1533  0.002447\n",
       "1534   1534 -0.003333\n",
       "1535   1535 -0.012233\n",
       "\n",
       "[1536 rows x 2 columns]"
      ]
     },
     "execution_count": 23,
     "metadata": {},
     "output_type": "execute_result"
    }
   ],
   "source": [
    "import pandas as pd\n",
    "\n",
    "# Create a DataFrame with the embedding_vector values\n",
    "df_embedding = pd.DataFrame({\n",
    "    'Index': list(range(len(embedding_vector))),\n",
    "    'Value': embedding_vector\n",
    "})\n",
    "\n",
    "# Display the table\n",
    "df_embedding"
   ]
  }
 ],
 "metadata": {
  "kernelspec": {
   "display_name": "base",
   "language": "python",
   "name": "python3"
  },
  "language_info": {
   "codemirror_mode": {
    "name": "ipython",
    "version": 3
   },
   "file_extension": ".py",
   "mimetype": "text/x-python",
   "name": "python",
   "nbconvert_exporter": "python",
   "pygments_lexer": "ipython3",
   "version": "3.11.7"
  }
 },
 "nbformat": 4,
 "nbformat_minor": 5
}
