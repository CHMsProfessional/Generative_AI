{
 "cells": [
  {
   "cell_type": "markdown",
   "id": "47350d72",
   "metadata": {},
   "source": [
    "# Khipus.ai\n",
    "## Introduction to Generative AI and Large Language Models\n",
    "### Assignment 3:  Create an Index in pinecone\n",
    "### Name: (add your name)\n",
    "<span>© Copyright Notice 2025, Khipus.ai - All Rights Reserved.</span>"
   ]
  },
  {
   "cell_type": "code",
   "execution_count": null,
   "id": "e705d7fb",
   "metadata": {},
   "outputs": [],
   "source": [
    "# pip install pinecone"
   ]
  },
  {
   "cell_type": "code",
   "execution_count": null,
   "id": "a1dab73e",
   "metadata": {},
   "outputs": [],
   "source": [
    "from pinecone import Pinecone, ServerlessSpec\n",
    "\n",
    "pc = Pinecone(api_key=\"********-****-****-****-************\")# your api key here"
   ]
  },
  {
   "cell_type": "code",
   "execution_count": null,
   "id": "7e5d55f9",
   "metadata": {},
   "outputs": [],
   "source": [
    "index_name = \"langchain-demo\"\n",
    "\n",
    "pc.create_index(\n",
    "    name=index_name,\n",
    "    dimension=1536, # The text-embedding-ada-0002 model has 1536 dimensions\n",
    "    metric=\"cosine\", # Cosine is the it's one of the most common distance metrics used with text embeddings like text-embedding-ada-0002.\n",
    "    spec=ServerlessSpec(\n",
    "        cloud=\"aws\",\n",
    "        region=\"us-east-1\"\n",
    "    ) \n",
    ")"
   ]
  }
 ],
 "metadata": {
  "language_info": {
   "name": "python"
  }
 },
 "nbformat": 4,
 "nbformat_minor": 5
}
